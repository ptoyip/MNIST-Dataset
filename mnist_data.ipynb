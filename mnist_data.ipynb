{
 "cells": [
  {
   "cell_type": "code",
   "execution_count": 1,
   "metadata": {},
   "outputs": [],
   "source": [
    "from random import shuffle\n",
    "\n",
    "import numpy as np\n",
    "import torch\n",
    "import torchvision\n",
    "import matplotlib.pyplot as plt\n",
    "from torchvision import datasets, transforms, models\n"
   ]
  },
  {
   "cell_type": "code",
   "execution_count": 2,
   "metadata": {},
   "outputs": [],
   "source": [
    "def mnist_loader(path=None, train=True):\n",
    "    if path is None:\n",
    "        path = \"data\"\n",
    "    return datasets.MNIST(\n",
    "        root=path,\n",
    "        train=train,\n",
    "        transform=transforms.Compose(\n",
    "            [\n",
    "                transforms.ToTensor(),\n",
    "                # transforms.Normalize(mean=0.5, std=0.5),\n",
    "            ]\n",
    "        ),\n",
    "        download=True,\n",
    "    )\n"
   ]
  },
  {
   "cell_type": "code",
   "execution_count": 3,
   "metadata": {},
   "outputs": [],
   "source": [
    "class Bag:\n",
    "    def __init__(\n",
    "        self,\n",
    "        positive_instance_label=0,\n",
    "        bag_size=(10, 50),\n",
    "        pov_neg_ins_ratio=(0.2, 0.5),\n",
    "        bag_number=(100, 100),\n",
    "        mnist_path=\"data\",\n",
    "        seed=0,\n",
    "    ):\n",
    "        \"\"\"Initalise for Bag\n",
    "\n",
    "        Args:\n",
    "            positive_instance_label (int, optional): Label that consider as positive in MNIST. Defaults to 0.\n",
    "            bag_size (tuple, optional): Number of instance in each bag. Defaults to (10,50).\n",
    "            pov_neg_ins_ratio (tuple, optional): Positive negative instance ratio in each bag. Defaults to (0.2,0.5).\n",
    "            bag_number (tuple, optional): Number of (Positive, Negative) Bags. Defaults to (100,100).\n",
    "            mnist_path (str, optional): Root directory of dataset where MNIST/raw/train-images-idx3-ubyte and MNIST/raw/t10k-images-idx3-ubyte exist.. Defaults to 'data'.\n",
    "            seed (int, optional): Seed for randomization. Defaults to 0.\n",
    "\n",
    "        Returns:\n",
    "            train,test: train and test bag\n",
    "        \"\"\"\n",
    "        self.pos_label = positive_instance_label\n",
    "        self.bag_size = bag_size\n",
    "        self.pov_neg_ins_ratio = pov_neg_ins_ratio\n",
    "        self.bag_number = bag_number\n",
    "        self.mnist_path = mnist_path\n",
    "        self.seed = seed\n",
    "        self.__mnist_loader()\n",
    "        self.__gen_bags()\n",
    "        self.bag_list = []\n",
    "        self.bag_list.extend(zip(self.pos_bag_list, torch.ones(len(self.pos_bag_list),1)))\n",
    "        self.bag_list.extend(zip(self.neg_bag_list, torch.zeros(len(self.neg_bag_list),1)))\n",
    "        shuffle(self.bag_list)\n",
    "\n",
    "    def __mnist_loader(self):\n",
    "        self.pos_instance = []\n",
    "        self.neg_instance = []\n",
    "        np.random.seed(self.seed)\n",
    "\n",
    "        \"\"\"\n",
    "        # Extend img,label list with tensor as element\n",
    "        #! Error\n",
    "        for status in [True, False]:\n",
    "            tmp = mnist_loader(path=self.mnist_path, train=status)\n",
    "            self.neg_instance.extend(zip(tmp.data, tmp.targets))\n",
    "        # print('len_neg_ins',len(self.neg_instance))\n",
    "        # count = 0\n",
    "        # Seperate +/- instance\n",
    "        for idx, instance in enumerate(self.neg_instance):\n",
    "            if int(instance[1].numpy()) == self.pos_label:\n",
    "                # count += 1\n",
    "                # print('matched:[',int(instance[1].numpy()),' <->',self.pos_label)\n",
    "                self.pos_instance.append(self.neg_instance.pop(idx))\n",
    "            else:\n",
    "                print(int(instance[1].numpy()),end='')\n",
    "        \"\"\"\n",
    "        for status in [True, False]:\n",
    "            tmp = mnist_loader(path=self.mnist_path, train=status)\n",
    "            for data in tmp:\n",
    "                if data[1] == self.pos_label:\n",
    "                    self.pos_instance.append(data)\n",
    "                else:\n",
    "                    self.neg_instance.append(data)\n",
    "        \n",
    "        # print(count, len(self.neg_instance))\n",
    "        # Randomize instance sequence\n",
    "        shuffle(self.pos_instance)\n",
    "        shuffle(self.neg_instance)\n",
    "        # tmp = []\n",
    "        # for img,idx in self.pos_instance:\n",
    "        #     if  idx != 0:\n",
    "        #         tmp.append(int(idx.numpy()))\n",
    "        # print(tmp)\n",
    "\n",
    "    def __gen_bags(self):\n",
    "        self.pos_bag_list = []\n",
    "        self.neg_bag_list = []\n",
    "        # Generate Positive Bags\n",
    "        for i in range(self.bag_number[0]):\n",
    "            bag = []\n",
    "            try:\n",
    "                bag_size = np.random.randint(*self.bag_size)\n",
    "            except:\n",
    "                bag_size = self.bag_size[0]\n",
    "            pos_size = round(\n",
    "                (\n",
    "                    np.random.random()\n",
    "                    * (self.pov_neg_ins_ratio[1] - self.pov_neg_ins_ratio[0])\n",
    "                    + self.pov_neg_ins_ratio[0]\n",
    "                )\n",
    "                * bag_size\n",
    "            )\n",
    "            for j in range(pos_size):\n",
    "                if self.pos_instance:\n",
    "                    bag.append(self.pos_instance.pop(0)[0])\n",
    "                else:\n",
    "                    break\n",
    "            for j in range(bag_size - len(bag)):\n",
    "                if self.neg_instance:\n",
    "                    bag.append(self.neg_instance.pop(0)[0])\n",
    "                else:\n",
    "                    break\n",
    "            self.pos_bag_list.append(bag)\n",
    "        neg_index_list = []\n",
    "        for i in range(self.bag_number[1]):\n",
    "            bag = []\n",
    "            try:\n",
    "                bag_size = np.random.randint(*self.bag_size)\n",
    "            except:\n",
    "                bag_size = self.bag_size[0]\n",
    "            for j in range(bag_size):\n",
    "                if self.neg_instance:\n",
    "                    tmp_instance = self.neg_instance.pop(0)\n",
    "                    bag.append(tmp_instance[0])\n",
    "                    neg_index_list.append(tmp_instance[1])\n",
    "                else:\n",
    "                    break\n",
    "            self.neg_bag_list.append(bag)\n",
    "        # print(neg_index_list)\n",
    "\n",
    "        shuffle(self.pos_bag_list)\n",
    "        shuffle(self.neg_bag_list)\n"
   ]
  },
  {
   "cell_type": "code",
   "execution_count": 4,
   "metadata": {},
   "outputs": [],
   "source": [
    "class CNN(torch.nn.Module):\n",
    "    def __init__(self):\n",
    "        super(CNN, self).__init__()\n",
    "        self.conv1 = torch.nn.Sequential(\n",
    "            torch.nn.Conv2d(1, 64, kernel_size=3, stride=1, padding=1),\n",
    "            torch.nn.ReLU(),\n",
    "            torch.nn.Conv2d(64, 128, kernel_size=3, stride=1, padding=1),\n",
    "            torch.nn.ReLU(),\n",
    "            torch.nn.MaxPool2d(stride=2, kernel_size=2),\n",
    "        )\n",
    "        self.dense = torch.nn.Sequential(\n",
    "            torch.nn.Linear(14 * 14 * 128, 1024),\n",
    "            torch.nn.Sigmoid(),\n",
    "            torch.nn.Dropout(p=0.3),\n",
    "            torch.nn.Linear(1024, 10),\n",
    "        )\n",
    "\n",
    "    def forward(self, x):\n",
    "        # print(x.shape)\n",
    "        feats = self.conv1(x)\n",
    "        # print(x.shape)\n",
    "        flatten = feats.view(-1, 14 * 14 * 128)\n",
    "        # print(x.shape)\n",
    "        c = self.dense(flatten)\n",
    "        return flatten, c\n"
   ]
  },
  {
   "cell_type": "code",
   "execution_count": 5,
   "metadata": {},
   "outputs": [],
   "source": [
    "class B_CLF(torch.nn.Module):\n",
    "    def __init__(self):\n",
    "        super(B_CLF, self).__init__()\n",
    "        self.fc = torch.nn.Sequential(\n",
    "            torch.nn.Linear(14*14*128, 128),\n",
    "            torch.nn.Sigmoid(),\n",
    "            torch.nn.Linear(128,2),\n",
    "            # torch.nn.ReLU(),\n",
    "            # torch.nn.Linear(64, 2),\n",
    "            # torch.nn.Linear(30 * 10, 2)\n",
    "        )\n",
    "\n",
    "    def forward(self, feats):\n",
    "        x = self.fc(feats)\n",
    "        # print(x)\n",
    "        return feats,x\n"
   ]
  },
  {
   "cell_type": "code",
   "execution_count": 6,
   "metadata": {},
   "outputs": [],
   "source": [
    "model = CNN()\n",
    "b_clf = B_CLF()\n",
    "loss_func = torch.nn.CrossEntropyLoss()\n",
    "optimizer = torch.optim.Adam(model.parameters())\n",
    "bag = Bag(bag_size=(30,30))\n",
    "length = len(bag.bag_list)\n",
    "train_bags, test_bags = torch.utils.data.random_split(\n",
    "    bag.bag_list, [int(0.8 * length), int(0.2 * length)]\n",
    ")\n",
    "check_dict = {'true':[], 'false':[]}\n",
    "z = 0\n",
    "for bags,label in train_bags:\n",
    "    if z%20 != 0:\n",
    "        z+=1\n",
    "        continue\n",
    "    else:\n",
    "        z = z+1\n",
    "    label = int(label.numpy()[0])\n",
    "    for instance in bags:\n",
    "        if label == 1:\n",
    "            check_dict['true'].append(instance[0])\n",
    "        else:\n",
    "            check_dict['false'].append(instance[0])"
   ]
  },
  {
   "cell_type": "code",
   "execution_count": 7,
   "metadata": {},
   "outputs": [
    {
     "name": "stdout",
     "output_type": "stream",
     "text": [
      "5879\n"
     ]
    },
    {
     "data": {
      "text/plain": [
       "(array([5879.,    0.,    0.,    0.,    0.,    0.,    0.,    0.,    0.]),\n",
       " array([0, 1, 2, 3, 4, 5, 6, 7, 8, 9]),\n",
       " <BarContainer object of 9 artists>)"
      ]
     },
     "execution_count": 7,
     "metadata": {},
     "output_type": "execute_result"
    },
    {
     "data": {
      "image/png": "[encoded data removed]",
      "text/plain": [
       "<Figure size 640x480 with 1 Axes>"
      ]
     },
     "metadata": {},
     "output_type": "display_data"
    }
   ],
   "source": [
    "print(len(bag.pos_instance))\n",
    "q = 0\n",
    "label_list = []\n",
    "for idx, instance in enumerate(bag.pos_instance):\n",
    "    label_list.append(instance[1])\n",
    "plt.hist(label_list,[0,1,2,3,4,5,6,7,8,9])"
   ]
  },
  {
   "cell_type": "code",
   "execution_count": 8,
   "metadata": {},
   "outputs": [
    {
     "data": {
      "image/png": "[encoded data removed]",
      "text/plain": [
       "<Figure size 800x800 with 60 Axes>"
      ]
     },
     "metadata": {},
     "output_type": "display_data"
    }
   ],
   "source": [
    "fig = plt.figure(figsize=(8, 8))\n",
    "columns = 10\n",
    "rows = 24\n",
    "for idx, instance in enumerate(check_dict['false']):\n",
    "    fig.add_subplot(rows, columns, idx+1)\n",
    "    plt.imshow(instance)\n",
    "plt.show()"
   ]
  },
  {
   "cell_type": "code",
   "execution_count": 9,
   "metadata": {},
   "outputs": [],
   "source": [
    "# a.dataset = train bag\n",
    "# a.dataset[0] = first bag in train bag\n",
    "# a.dataset[0][0] = instances in first bag (removed bag label)\n",
    "# a.dataset[0][0][0] = first instance in first bag\n",
    "# plt.imshow(train_bags.dataset[0][0][0],cmap='gray')"
   ]
  },
  {
   "cell_type": "code",
   "execution_count": 10,
   "metadata": {},
   "outputs": [
    {
     "name": "stdout",
     "output_type": "stream",
     "text": [
      "[1,    20] loss: 0.007\n",
      "[1,    40] loss: 0.006\n",
      "[1,    60] loss: 0.006\n",
      "[1,    80] loss: 0.006\n",
      "[1,   100] loss: 0.006\n",
      "[1,   120] loss: 0.005\n",
      "[1,   140] loss: 0.005\n",
      "[1,   160] loss: 0.004\n",
      "[2,    20] loss: 0.004\n",
      "[2,    40] loss: 0.005\n",
      "[2,    60] loss: 0.004\n",
      "[2,    80] loss: 0.005\n",
      "[2,   100] loss: 0.004\n",
      "[2,   120] loss: 0.004\n",
      "[2,   140] loss: 0.004\n",
      "[2,   160] loss: 0.004\n",
      "[3,    20] loss: 0.004\n",
      "[3,    40] loss: 0.004\n",
      "[3,    60] loss: 0.004\n",
      "[3,    80] loss: 0.004\n",
      "[3,   100] loss: 0.004\n",
      "[3,   120] loss: 0.004\n",
      "[3,   140] loss: 0.003\n",
      "[3,   160] loss: 0.003\n"
     ]
    }
   ],
   "source": [
    "for epoch in range(3):\n",
    "    running_loss = 0.0\n",
    "    count = 0\n",
    "    for instances, label in train_bags:\n",
    "        # print(label)\n",
    "        count += 1\n",
    "        instance_features = None\n",
    "        # zero the parameter gradients\n",
    "        optimizer.zero_grad()\n",
    "        # forward + backward + optimize\n",
    "        instances = torch.utils.data.DataLoader(instances,shuffle=True)\n",
    "        for instance in instances:\n",
    "            flatten, c = model(instance.to(torch.float32))\n",
    "            if instance_features is None:\n",
    "                instance_features = flatten\n",
    "            else:\n",
    "                # instance_features = torch.cat((instance_features,c),dim = 1)\n",
    "                instance_features += flatten\n",
    "        #TODO 加一层FC?\n",
    "        # print(instance_features)\n",
    "        _, bag_class = b_clf(instance_features)\n",
    "        # print(bag_class[0].tolist(), label)\n",
    "        # print(instance_features.shape, label.shape)\n",
    "        loss = loss_func(bag_class, label.to(torch.long))\n",
    "        loss.backward()\n",
    "        optimizer.step()\n",
    "\n",
    "        # print statistics\n",
    "        running_loss += loss.item()\n",
    "        if count % 20 == 19:\n",
    "            print(f\"[{epoch + 1}, {count + 1:5d}] loss: {running_loss / 2000:.3f}\")\n",
    "            running_loss = 0.0\n"
   ]
  },
  {
   "cell_type": "code",
   "execution_count": 11,
   "metadata": {},
   "outputs": [
    {
     "name": "stdout",
     "output_type": "stream",
     "text": [
      "[0, 0, 0, 0, 1, 1, 0, 1, 1, 1, 0, 1, 0, 1, 0, 0, 0, 0, 1, 0, 0, 1, 0, 0, 0, 0, 0, 1, 1, 0, 0, 0, 1, 0, 0, 0, 0, 1, 0, 0] \n",
      " [0, 0, 0, 0, 1, 1, 0, 1, 1, 1, 0, 1, 0, 1, 0, 0, 0, 1, 1, 0, 0, 1, 0, 0, 0, 0, 0, 1, 1, 0, 0, 0, 1, 0, 0, 0, 0, 1, 0, 1]\n"
     ]
    }
   ],
   "source": [
    "running_loss = 0.0\n",
    "count = 0\n",
    "pred_label = []\n",
    "test_label = []\n",
    "for instances, label in test_bags:\n",
    "    # print(label)\n",
    "    count += 1\n",
    "    instance_features = None\n",
    "    instances = torch.utils.data.DataLoader(instances,shuffle=True)\n",
    "    for instance in instances:\n",
    "        flatten, c = model(instance.to(torch.float32))\n",
    "        if instance_features is None:\n",
    "            instance_features = flatten\n",
    "        else:\n",
    "            instance_features += flatten\n",
    "    _, bag_class = b_clf(instance_features)\n",
    "    loss = loss_func(bag_class, label.to(torch.long))\n",
    "    pred_label.append(int(torch.argmax(bag_class).numpy()))\n",
    "    test_label.append(int(label.numpy()))\n",
    "print(pred_label,'\\n',test_label)\n",
    "\n",
    "    # print statistics\n",
    "    # running_loss += loss.item()\n",
    "    # if count % 20 == 19:\n",
    "    #     print(f\"[{epoch + 1}, {count + 1:5d}] loss: {running_loss / 2000:.3f}\")\n",
    "    #     running_loss = 0.0\n"
   ]
  },
  {
   "cell_type": "code",
   "execution_count": 12,
   "metadata": {},
   "outputs": [],
   "source": [
    "from sklearn.metrics import roc_curve, roc_auc_score, precision_recall_fscore_support\n",
    "def optimal_thresh(fpr, tpr, thresholds, p=0):\n",
    "    loss = (fpr - tpr) - p * tpr / (fpr + tpr + 1)\n",
    "    idx = np.argmin(loss, axis=0)\n",
    "    return fpr[idx], tpr[idx], thresholds[idx]\n",
    "\n",
    "def five_scores(bag_labels, bag_predictions):\n",
    "    fpr, tpr, threshold = roc_curve(bag_labels, bag_predictions, pos_label=1)\n",
    "    fpr_optimal, tpr_optimal, threshold_optimal = optimal_thresh(fpr, tpr, threshold)\n",
    "    auc_value = roc_auc_score(bag_labels, bag_predictions)\n",
    "    this_class_label = np.array(bag_predictions)\n",
    "    this_class_label[this_class_label>=threshold_optimal] = 1\n",
    "    this_class_label[this_class_label<threshold_optimal] = 0\n",
    "    bag_predictions = this_class_label\n",
    "    precision, recall, fscore, _ = precision_recall_fscore_support(bag_labels, bag_predictions, average='binary')\n",
    "    accuracy = 1- np.count_nonzero(np.array(bag_labels).astype(int)- bag_predictions.astype(int)) / len(bag_labels)\n",
    "    return accuracy, auc_value, precision, recall, fscore"
   ]
  },
  {
   "cell_type": "code",
   "execution_count": 13,
   "metadata": {},
   "outputs": [
    {
     "name": "stdout",
     "output_type": "stream",
     "text": [
      "accuracy: 0.95\n",
      "auc_value: 0.9333333333333333\n",
      "precision: 1.0\n",
      "recall: 0.8666666666666667\n",
      "fscore: 0.9285714285714286\n"
     ]
    }
   ],
   "source": [
    "print('accuracy: {}\\nauc_value: {}\\nprecision: {}\\nrecall: {}\\nfscore: {}'.format(*five_scores(test_label,pred_label)))"
   ]
  },
  {
   "cell_type": "code",
   "execution_count": null,
   "metadata": {},
   "outputs": [],
   "source": []
  }
 ],
 "metadata": {
  "kernelspec": {
   "display_name": "Python 3.10.4 ('image')",
   "language": "python",
   "name": "python3"
  },
  "language_info": {
   "codemirror_mode": {
    "name": "ipython",
    "version": 3
   },
   "file_extension": ".py",
   "mimetype": "text/x-python",
   "name": "python",
   "nbconvert_exporter": "python",
   "pygments_lexer": "ipython3",
   "version": "3.10.4"
  },
  "orig_nbformat": 4,
  "vscode": {
   "interpreter": {
    "hash": "ddd80f1155ab6ac1b3603eec8a4f7af7e571d6991b6f6e5941db98bef78140f9"
   }
  }
 },
 "nbformat": 4,
 "nbformat_minor": 2
}
